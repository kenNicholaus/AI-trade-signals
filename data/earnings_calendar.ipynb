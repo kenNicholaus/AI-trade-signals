{
 "cells": [
  {
   "cell_type": "code",
   "execution_count": 80,
   "metadata": {},
   "outputs": [],
   "source": [
    "import requests\n",
    "from datetime import datetime, date, timedelta\n",
    "import pandas_market_calendars as mcal\n",
    "import pandas as pd\n",
    "import time"
   ]
  },
  {
   "cell_type": "code",
   "execution_count": 81,
   "metadata": {},
   "outputs": [],
   "source": [
    "No_days = 7\n",
    "nyse = mcal.get_calendar('NYSE')\n",
    "beg = date.today()\n",
    "x = datetime(beg.year, beg.month, beg.day)\n",
    "end = beg + timedelta(days=No_days)"
   ]
  },
  {
   "cell_type": "code",
   "execution_count": 82,
   "metadata": {},
   "outputs": [
    {
     "data": {
      "text/html": [
       "<div>\n",
       "<style scoped>\n",
       "    .dataframe tbody tr th:only-of-type {\n",
       "        vertical-align: middle;\n",
       "    }\n",
       "\n",
       "    .dataframe tbody tr th {\n",
       "        vertical-align: top;\n",
       "    }\n",
       "\n",
       "    .dataframe thead th {\n",
       "        text-align: right;\n",
       "    }\n",
       "</style>\n",
       "<table border=\"1\" class=\"dataframe\">\n",
       "  <thead>\n",
       "    <tr style=\"text-align: right;\">\n",
       "      <th></th>\n",
       "      <th>market_open</th>\n",
       "      <th>market_close</th>\n",
       "    </tr>\n",
       "  </thead>\n",
       "  <tbody>\n",
       "    <tr>\n",
       "      <th>2019-09-30</th>\n",
       "      <td>2019-09-30 13:30:00+00:00</td>\n",
       "      <td>2019-09-30 20:00:00+00:00</td>\n",
       "    </tr>\n",
       "    <tr>\n",
       "      <th>2019-10-01</th>\n",
       "      <td>2019-10-01 13:30:00+00:00</td>\n",
       "      <td>2019-10-01 20:00:00+00:00</td>\n",
       "    </tr>\n",
       "    <tr>\n",
       "      <th>2019-10-02</th>\n",
       "      <td>2019-10-02 13:30:00+00:00</td>\n",
       "      <td>2019-10-02 20:00:00+00:00</td>\n",
       "    </tr>\n",
       "    <tr>\n",
       "      <th>2019-10-03</th>\n",
       "      <td>2019-10-03 13:30:00+00:00</td>\n",
       "      <td>2019-10-03 20:00:00+00:00</td>\n",
       "    </tr>\n",
       "    <tr>\n",
       "      <th>2019-10-04</th>\n",
       "      <td>2019-10-04 13:30:00+00:00</td>\n",
       "      <td>2019-10-04 20:00:00+00:00</td>\n",
       "    </tr>\n",
       "    <tr>\n",
       "      <th>2019-10-07</th>\n",
       "      <td>2019-10-07 13:30:00+00:00</td>\n",
       "      <td>2019-10-07 20:00:00+00:00</td>\n",
       "    </tr>\n",
       "  </tbody>\n",
       "</table>\n",
       "</div>"
      ],
      "text/plain": [
       "                         market_open              market_close\n",
       "2019-09-30 2019-09-30 13:30:00+00:00 2019-09-30 20:00:00+00:00\n",
       "2019-10-01 2019-10-01 13:30:00+00:00 2019-10-01 20:00:00+00:00\n",
       "2019-10-02 2019-10-02 13:30:00+00:00 2019-10-02 20:00:00+00:00\n",
       "2019-10-03 2019-10-03 13:30:00+00:00 2019-10-03 20:00:00+00:00\n",
       "2019-10-04 2019-10-04 13:30:00+00:00 2019-10-04 20:00:00+00:00\n",
       "2019-10-07 2019-10-07 13:30:00+00:00 2019-10-07 20:00:00+00:00"
      ]
     },
     "execution_count": 82,
     "metadata": {},
     "output_type": "execute_result"
    }
   ],
   "source": [
    "date_range = nyse.schedule(start_date=beg, end_date=end)\n",
    "date_range"
   ]
  },
  {
   "cell_type": "code",
   "execution_count": 83,
   "metadata": {},
   "outputs": [
    {
     "name": "stdout",
     "output_type": "stream",
     "text": [
      "['20190930', '20191001', '20191002', '20191003', '20191004', '20191007']\n"
     ]
    }
   ],
   "source": [
    "dates =[]\n",
    "for date in date_range.market_open:\n",
    "    x =(str(date).split(' ')[0])\n",
    "    x = datetime.strptime(x, \"%Y-%M-%d\")\n",
    "    dates.append(x.strftime('%Y%M%d'))\n",
    "print(dates)   "
   ]
  },
  {
   "cell_type": "code",
   "execution_count": 84,
   "metadata": {},
   "outputs": [
    {
     "name": "stdout",
     "output_type": "stream",
     "text": [
      "20190930 [{\"ticker\":\"THO\",\"when\":\"bmo\"},{\"ticker\":\"COVTY\",\"when\":\"--\"},{\"ticker\":\"MDOMF\",\"when\":\"--\"},{\"ticker\":\"SSKN\",\"when\":\"--\"},{\"ticker\":\"RAVE\",\"when\":\"bmo\"},{\"ticker\":\"ADDXF\",\"when\":\"bmo\"},{\"ticker\":\"RMED\",\"when\":\"--\"},{\"ticker\":\"PQUEQ\",\"when\":\"--\"}]\n",
      "20191001 [{\"ticker\":\"SFIX\",\"when\":\"amc\"},{\"ticker\":\"MKC\",\"when\":\"bmo\"},{\"ticker\":\"UNFI\",\"when\":\"amc\"},{\"ticker\":\"SSNLF\",\"when\":\"--\"},{\"ticker\":\"DNZOY\",\"when\":\"--\"},{\"ticker\":\"LGRVF\",\"when\":\"--\"},{\"ticker\":\"ASEKY\",\"when\":\"--\"},{\"ticker\":\"NG\",\"when\":\"amc\"},{\"ticker\":\"PRED\",\"when\":\"--\"},{\"ticker\":\"LNDC\",\"when\":\"amc\"},{\"ticker\":\"CTST\",\"when\":\"--\"},{\"ticker\":\"AMRQQ\",\"when\":\"--\"},{\"ticker\":\"SKIS\",\"when\":\"--\"}]\n",
      "20191002 [{\"ticker\":\"LEN\",\"when\":\"bmo\"},{\"ticker\":\"BBBY\",\"when\":\"amc\"},{\"ticker\":\"LW\",\"when\":\"bmo\"},{\"ticker\":\"PAYX\",\"when\":\"bmo\"},{\"ticker\":\"RECN\",\"when\":\"--\"},{\"ticker\":\"AYI\",\"when\":\"bmo\"},{\"ticker\":\"RPM\",\"when\":\"bmo\"},{\"ticker\":\"HNNMY\",\"when\":\"--\"},{\"ticker\":\"OMN\",\"when\":\"--\"},{\"ticker\":\"SEAC\",\"when\":\"--\"}]\n",
      "20191003 [{\"ticker\":\"STZ\",\"when\":\"bmo\"},{\"ticker\":\"COST\",\"when\":\"amc\"},{\"ticker\":\"SGH\",\"when\":\"amc\"},{\"ticker\":\"PEP\",\"when\":\"bmo\"},{\"ticker\":\"ISCA\",\"when\":\"--\"},{\"ticker\":\"ANGO\",\"when\":\"bmo\"},{\"ticker\":\"LMAT\",\"when\":\"--\"},{\"ticker\":\"SMMT\",\"when\":\"--\"}]\n",
      "20191004 [{\"ticker\":\"ONCS\",\"when\":\"--\"},{\"ticker\":\"TMQ\",\"when\":\"--\"},{\"ticker\":\"ANIX\",\"when\":\"--\"},{\"ticker\":\"PBSV\",\"when\":\"--\"}]\n",
      "20191007 []\n"
     ]
    }
   ],
   "source": [
    "json ={}\n",
    "for date in dates:\n",
    "    r = requests.get('https://api.earningscalendar.net/?date='+str(date))\n",
    "    print(date, r.text)\n",
    "    json =\n",
    "    time.sleep(1)"
   ]
  },
  {
   "cell_type": "code",
   "execution_count": null,
   "metadata": {},
   "outputs": [],
   "source": []
  }
 ],
 "metadata": {
  "kernelspec": {
   "display_name": "Python [conda env:Anaconda3]",
   "language": "python",
   "name": "conda-env-Anaconda3-py"
  },
  "language_info": {
   "codemirror_mode": {
    "name": "ipython",
    "version": 3
   },
   "file_extension": ".py",
   "mimetype": "text/x-python",
   "name": "python",
   "nbconvert_exporter": "python",
   "pygments_lexer": "ipython3",
   "version": "3.5.6"
  }
 },
 "nbformat": 4,
 "nbformat_minor": 2
}
